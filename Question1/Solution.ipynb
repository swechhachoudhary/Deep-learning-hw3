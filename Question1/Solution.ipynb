{
  "nbformat": 4,
  "nbformat_minor": 0,
  "metadata": {
    "colab": {
      "name": "MyExperimentsWithJS_WD.ipynb",
      "version": "0.3.2",
      "provenance": []
    },
    "kernelspec": {
      "name": "python3",
      "display_name": "Python 3"
    },
    "accelerator": "GPU"
  },
  "cells": [
    {
      "metadata": {
        "id": "xCvlfJ1vMlyL",
        "colab_type": "code",
        "colab": {}
      },
      "cell_type": "code",
      "source": [
        "import torch\n",
        "import torch.nn as nn\n",
        "import torch.nn.functional as F\n",
        "from torch.optim import SGD\n",
        "import easydict \n",
        "import numpy as np\n",
        "import matplotlib.pyplot as plt\n",
        "%matplotlib inline\n",
        "import samplers\n",
        "from google.colab import files"
      ],
      "execution_count": 0,
      "outputs": []
    },
    {
      "metadata": {
        "id": "0KPsrnDLM0uV",
        "colab_type": "code",
        "colab": {}
      },
      "cell_type": "code",
      "source": [
        "class Discriminator(nn.Module):\n",
        "    \n",
        "    def __init__(self, input_dimension):\n",
        "      \n",
        "        super(Discriminator, self).__init__()\n",
        "        \n",
        "        self.input_dimension = input_dimension\n",
        "        \n",
        "        self.activation = nn.ReLU()\n",
        "        \n",
        "        self.input_layer = nn.Sequential(\n",
        "            nn.Linear(self.input_dimension, 128),\n",
        "            self.activation\n",
        "        )\n",
        "        \n",
        "        self.hidden_layer = nn.Sequential(\n",
        "            nn.Linear(128, 128),\n",
        "            self.activation\n",
        "        )\n",
        "\n",
        "        self.output_layer = nn.Sequential(\n",
        "            nn.Linear(128, 1)\n",
        "        )\n",
        "\n",
        "        self.sigmoid = nn.Sigmoid()\n",
        "\n",
        "    def forward(self, x):\n",
        "      \n",
        "        x = self.input_layer(x)\n",
        "        x = self.hidden_layer(x)\n",
        "        x = self.output_layer(x)\n",
        "        \n",
        "        \n",
        "        return x"
      ],
      "execution_count": 0,
      "outputs": []
    },
    {
      "metadata": {
        "id": "LV4FZPqVHLEx",
        "colab_type": "code",
        "colab": {}
      },
      "cell_type": "code",
      "source": [
        "def JensenShannon_Train(p, q, i):\n",
        "  \n",
        "  D = Discriminator(i).cuda()\n",
        "  optimizer = SGD(D.parameters(), lr=0.001)\n",
        "  \n",
        "  for iter_ in range(10000):\n",
        "    \n",
        "        optimizer.zero_grad()\n",
        "        x = torch.from_numpy(next(p)).float().cuda()\n",
        "        y = torch.from_numpy(next(q)).float().cuda()\n",
        "        \n",
        "        Ex = torch.mean(torch.log(torch.sigmoid(D(x))))\n",
        "        Ey = torch.mean(torch.log(1 - torch.sigmoid(D(y))))\n",
        "        \n",
        "        loss = -Ex - Ey\n",
        "        loss.backward()\n",
        "        optimizer.step()\n",
        "\n",
        "  return D"
      ],
      "execution_count": 0,
      "outputs": []
    },
    {
      "metadata": {
        "id": "hOEvq2bNJcxQ",
        "colab_type": "code",
        "colab": {}
      },
      "cell_type": "code",
      "source": [
        "def Wassertian_Train(p, q, i):\n",
        "  \n",
        "  D = Discriminator(i).cuda()\n",
        "  optimizer = SGD(D.parameters(), lr=0.001)\n",
        "  \n",
        "  # Uniform distribution U[0, 1]\n",
        "  a_dist = samplers.distribution2(batch_size=512)\n",
        "  Lambda = 10\n",
        " \n",
        "  for iter_ in range(10000):\n",
        "    \n",
        "        optimizer.zero_grad()\n",
        "        x = torch.from_numpy(next(p)).float().cuda()\n",
        "        y = torch.from_numpy(next(q)).float().cuda()\n",
        "        \n",
        "        Ex = D(x).mean()\n",
        "        Ey = D(y).mean()\n",
        "        \n",
        "        a = torch.from_numpy(next(a_dist)).float().cuda()\n",
        "            \n",
        "        z = a*x + (1 - a)*y\n",
        "        z.requires_grad_(True)\n",
        "        \n",
        "        \n",
        "        gradient = torch.autograd.grad(D(z), z, grad_outputs=torch.ones(D(z).size()).cuda(), retain_graph=True, create_graph=True, only_inputs=True)[0]\n",
        "        norm_gradient = torch.norm(gradient, p=2, dim=1)\n",
        "        penalty = (norm_gradient - 1).pow(2).mean()\n",
        "        \n",
        "        loss = -((Ex - Ey) - Lambda*penalty)\n",
        "        loss.backward()\n",
        "        optimizer.step()\n",
        "\n",
        "  return D"
      ],
      "execution_count": 0,
      "outputs": []
    },
    {
      "metadata": {
        "id": "lajMeemaApwI",
        "colab_type": "code",
        "colab": {}
      },
      "cell_type": "code",
      "source": [
        "def JensenShannon_Estimator(p, q, D):\n",
        "  \n",
        "    x = torch.from_numpy(next(p)).float().cuda()\n",
        "    y = torch.from_numpy(next(q)).float().cuda()\n",
        "    \n",
        "    Ex = torch.mean(torch.log(torch.sigmoid(x)))\n",
        "    Ey = torch.mean(torch.log(1 - torch.sigmoid(y)))\n",
        "\n",
        "    fo = np.log(2) + ((0.5*Ex) + (0.5*Ey)).data.cpu().numpy()\n",
        "    \n",
        "    return fo"
      ],
      "execution_count": 0,
      "outputs": []
    },
    {
      "metadata": {
        "id": "levQl31M9oz2",
        "colab_type": "code",
        "colab": {}
      },
      "cell_type": "code",
      "source": [
        "def Wasserstein_Estimator(p, q, D):\n",
        "  \n",
        "    x = torch.from_numpy(next(p)).float().cuda()\n",
        "    y = torch.from_numpy(next(q)).float().cuda()\n",
        "    \n",
        "    Ex = torch.mean(D(x))\n",
        "    Ey = torch.mean(D(y))\n",
        "    \n",
        "    fo = (Ex - Ey).data.cpu().numpy()\n",
        "    \n",
        "    return fo"
      ],
      "execution_count": 0,
      "outputs": []
    },
    {
      "metadata": {
        "id": "my6LWp0m2UTa",
        "colab_type": "code",
        "colab": {
          "base_uri": "https://localhost:8080/",
          "height": 816
        },
        "outputId": "cc83feb8-0710-447e-deee-db92a4a90a03"
      },
      "cell_type": "code",
      "source": [
        "if __name__ == \"__main__\":\n",
        "\n",
        "    ### Question 3 ###\n",
        "    \n",
        "    X_theta = []\n",
        "    Y_estimate_wd = []\n",
        "    Y_estimate_js = []\n",
        "    \n",
        "    #p is uniform distribution [0,Z]\n",
        "    p = samplers.distribution1(0, batch_size=512)\n",
        "\n",
        "    #theta [-1,1] with interval of 0.1\n",
        "    for theta in np.arange(-1.0, 1.01, 0.1):\n",
        "        theta = np.around(theta, decimals=1)\n",
        "        #print(str(theta))\n",
        "        q_theta = samplers.distribution1(theta, batch_size=512)\n",
        "        \n",
        "        #WD estimation\n",
        "        Dw = Wassertian_Train(p, q_theta, 2)\n",
        "        estimate_wd = Wasserstein_Estimator(p, q_theta, Dw)\n",
        "\n",
        "        #JSD estimation\n",
        "        Dj = JensenShannon_Train(p, q_theta, 2)\n",
        "        estimate_js = JensenShannon_Estimator(p, q_theta, Dj)\n",
        "\n",
        "        X_theta.append(theta)\n",
        "        Y_estimate_wd.append(estimate_wd)\n",
        "        Y_estimate_js.append(estimate_js)\n",
        "\n",
        "    #Plotting theta on X axis and caculated estimate on Y axis\n",
        "    plt.plot(X_theta, Y_estimate_wd, '.')\n",
        "    plt.plot(X_theta, Y_estimate_js, '.')\n",
        "    plt.legend(['Wassertein','JensenShannon'])\n",
        "    plt.title('theta vs estimate')\n",
        "\n",
        "    plt.xlim(-1, 1)\n",
        "    plt.show()\n",
        "    #plt.savefig('theta vs estimate.png', bbox_inches='tight')\n",
        "    #files.download('theta vs estimate.png')\n",
        "\n",
        "\n",
        "    ### Question 4 ###\n",
        "    \n",
        "    ############### import the sampler ``samplers.distribution4''\n",
        "    ############### train a discriminator on distribution4 and standard gaussian\n",
        "    ############### estimate the density of distribution4\n",
        "    \n",
        "    # plot p0 and p1\n",
        "    plt.figure()\n",
        "\n",
        "    # empirical\n",
        "    xx = torch.randn(10000)\n",
        "    f = lambda x: torch.tanh(x*2+1) + x*0.75\n",
        "    d = lambda x: (1-torch.tanh(x*2+1)**2)*2+0.75\n",
        "    plt.hist(f(xx), 100, alpha=0.5, density=1)\n",
        "    plt.hist(xx, 100, alpha=0.5, density=1)\n",
        "    plt.xlim(-5,5)\n",
        "    # exact\n",
        "    xx = np.linspace(-5,5,1000)\n",
        "    N = lambda x: np.exp(-x**2/2.)/((2*np.pi)**0.5)\n",
        "    plt.plot(f(torch.from_numpy(xx)).numpy(), d(torch.from_numpy(xx)).numpy()**(-1)*N(xx))\n",
        "    plt.plot(xx, N(xx))\n",
        "\n",
        "    #######--- INSERT YOUR CODE BELOW ---#######\n",
        "\n",
        "    p0 = samplers.distribution3(batch_size=512) # standard Gaussian Distribution\n",
        "    p1 = samplers.distribution4(batch_size=512) # distribution4 unknown density\n",
        "\n",
        "\n",
        "    Discriminator_output = JensenShannon_Train(p1, p0, 1)\n",
        "\n",
        "    Density_est = []\n",
        "    Disc_out = []\n",
        "\n",
        "    for x in xx:\n",
        "        y = Discriminator_output(torch.from_numpy(np.array([N(x)])).float().cuda())\n",
        "        Disc_out.append(y)\n",
        "        Density_est.extend(N(x)*y/(1-y))\n",
        "\n",
        "    ############### plotting things\n",
        "    ############### (1) plot the output of your trained discriminator\n",
        "    ############### (2) plot the estimated density contrasted with the true density\n",
        "\n",
        "    r = Disc_out # evaluate xx using your discriminator; replace xx with the output\n",
        "    plt.figure(figsize=(8,4))\n",
        "    plt.subplot(1,2,1)\n",
        "    plt.plot(xx,r)\n",
        "    plt.title(r'$D(x)$')\n",
        "\n",
        "    estimate = Density_est # estimate the density of distribution4 (on xx) using the discriminator;\n",
        "                            # replace \"np.ones_like(xx)*0.\" with your estimate\n",
        "    plt.subplot(1,2,2)\n",
        "    plt.plot(xx,estimate)\n",
        "    plt.plot(f(torch.from_numpy(xx)).numpy(), d(torch.from_numpy(xx)).numpy()**(-1)*N(xx))\n",
        "    plt.legend(['Estimated','True'])\n",
        "    plt.title('Estimated vs True')\n",
        "    plt.show()\n",
        "    plt.savefig('Estimated vs True.png', bbox_inches='tight')\n",
        "    files.download('Estimated vs True.png')\n"
      ],
      "execution_count": 7,
      "outputs": [
        {
          "output_type": "display_data",
          "data": {
            "image/png": "[encoded data removed]",
            "text/plain": [
              "<Figure size 432x288 with 1 Axes>"
            ]
          },
          "metadata": {
            "tags": []
          }
        },
        {
          "output_type": "display_data",
          "data": {
            "image/png": "[encoded data removed]",
            "text/plain": [
              "<Figure size 432x288 with 1 Axes>"
            ]
          },
          "metadata": {
            "tags": []
          }
        },
        {
          "output_type": "display_data",
          "data": {
            "image/png": "[encoded data removed]",
            "text/plain": [
              "<Figure size 576x288 with 2 Axes>"
            ]
          },
          "metadata": {
            "tags": []
          }
        },
        {
          "output_type": "display_data",
          "data": {
            "text/plain": [
              "<Figure size 432x288 with 0 Axes>"
            ]
          },
          "metadata": {
            "tags": []
          }
        }
      ]
    },
    {
      "metadata": {
        "id": "xplGXhhUYqn1",
        "colab_type": "code",
        "colab": {}
      },
      "cell_type": "code",
      "source": [
        ""
      ],
      "execution_count": 0,
      "outputs": []
    }
  ]
}